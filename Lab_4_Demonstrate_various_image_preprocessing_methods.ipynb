{
  "nbformat": 4,
  "nbformat_minor": 0,
  "metadata": {
    "colab": {
      "provenance": [],
      "authorship_tag": "ABX9TyOKJsfqiQ7UfoDZmAIfg27z",
      "include_colab_link": true
    },
    "kernelspec": {
      "name": "python3",
      "display_name": "Python 3"
    },
    "language_info": {
      "name": "python"
    }
  },
  "cells": [
    {
      "cell_type": "markdown",
      "metadata": {
        "id": "view-in-github",
        "colab_type": "text"
      },
      "source": [
        "<a href=\"https://colab.research.google.com/github/Raynould-Joseph/Computer-Vision/blob/main/Lab_4_Demonstrate_various_image_preprocessing_methods.ipynb\" target=\"_parent\"><img src=\"https://colab.research.google.com/assets/colab-badge.svg\" alt=\"Open In Colab\"/></a>"
      ]
    },
    {
      "cell_type": "markdown",
      "source": [
        "1. Write a python openCV code to convert the image from the given color model to different  color models.\n",
        "\n",
        "2. Include different types of noises in the input image with various densities and perform the following\n",
        "\n",
        "i) Apply linear and non-linear filters to the noise contaminated image with different mask size.\n",
        "\n",
        "ii) Display and interpret the result"
      ],
      "metadata": {
        "id": "Ys5CdUAD-cLG"
      }
    },
    {
      "cell_type": "code",
      "execution_count": null,
      "metadata": {
        "id": "ooxLfia9-YOA"
      },
      "outputs": [],
      "source": []
    },
    {
      "cell_type": "markdown",
      "source": [],
      "metadata": {
        "id": "miKseTol-aN2"
      }
    }
  ]
}