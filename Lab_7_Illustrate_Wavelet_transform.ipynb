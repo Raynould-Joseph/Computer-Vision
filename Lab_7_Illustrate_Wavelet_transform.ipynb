{
  "nbformat": 4,
  "nbformat_minor": 0,
  "metadata": {
    "colab": {
      "provenance": [],
      "authorship_tag": "ABX9TyMa5Gfc1n2FMRHEzfEbUZm/",
      "include_colab_link": true
    },
    "kernelspec": {
      "name": "python3",
      "display_name": "Python 3"
    },
    "language_info": {
      "name": "python"
    }
  },
  "cells": [
    {
      "cell_type": "markdown",
      "metadata": {
        "id": "view-in-github",
        "colab_type": "text"
      },
      "source": [
        "<a href=\"https://colab.research.google.com/github/Raynould-Joseph/Computer-Vision/blob/main/Lab_7_Illustrate_Wavelet_transform.ipynb\" target=\"_parent\"><img src=\"https://colab.research.google.com/assets/colab-badge.svg\" alt=\"Open In Colab\"/></a>"
      ]
    },
    {
      "cell_type": "code",
      "source": [
        "\n",
        "# importing OpenCV(cv2) module\n",
        "import numpy as np\n",
        "import cv2\n",
        "import imutils\n"
      ],
      "metadata": {
        "id": "38WyqXfsztHI"
      },
      "execution_count": 8,
      "outputs": []
    },
    {
      "cell_type": "code",
      "execution_count": 11,
      "metadata": {
        "colab": {
          "base_uri": "https://localhost:8080/",
          "height": 134
        },
        "id": "HruW5nujvIYv",
        "outputId": "d4baf12b-3933-4e49-e11c-858ba7044fb8"
      },
      "outputs": [
        {
          "output_type": "error",
          "ename": "SyntaxError",
          "evalue": "ignored",
          "traceback": [
            "\u001b[0;36m  File \u001b[0;32m\"<ipython-input-11-2592c702de5f>\"\u001b[0;36m, line \u001b[0;32m10\u001b[0m\n\u001b[0;31m    [xaR, xhR, xvR, xdR] = dwt2(img(:,:,1), 'haar');\u001b[0m\n\u001b[0m                                    ^\u001b[0m\n\u001b[0;31mSyntaxError\u001b[0m\u001b[0;31m:\u001b[0m invalid syntax\n"
          ]
        }
      ],
      "source": [
        "\n",
        "\n",
        "\n",
        " # Read RGB image\n",
        "from google.colab.patches import cv2_imshow\n",
        "# #for black and white images we must have to addd 0 to he imreadfie\n",
        "# img = cv2.imread(\"/content/sample_data/.jpg\",0)\n",
        "\n",
        "img = imread(\"/content/sample_data/.jpg\",0);\n",
        "figure;\n",
        "imshow(img)\n",
        "\n",
        "[xaR, xhR, xvR, xdR] = dwt2(img(:,:,1), 'haar');\n",
        "[xaG, xhG, xvG, xdG] = dwt2(img(:,:,2), 'haar');\n",
        "[xaB, xhB, xvB, xdB] = dwt2(img(:,:,3), 'haar');\n",
        "\n",
        "xa(:,:,1) = xaR; xa(:,:,2) = xaG; xa(:,:,3) = xaB;\n",
        "xh(:,:,1) = xhR; xa(:,:,2) = xhG; xa(:,:,3) = xhB;\n",
        "xv(:,:,1) = xvR; xa(:,:,2) = xvG; xa(:,:,3) = xvB;\n",
        "xd(:,:,1) = xdR; xd(:,:,2) = xdG; xd(:,:,3) = xdB;\n",
        "\n",
        "xA = xa/255;\n",
        "\n",
        "figure, imshow(xA*0.3);\n",
        "figure, imshow(log10(xh)*0.3);\n",
        "figure, imshow(log10(xv)*0.3);\n",
        "figure, imshow(log10(xd)*0.3);\n",
        "\n",
        "% Apply DWT on each of the partial components above\n",
        "[xaaR, xhhR, xvvR, xddR] = dwt2(xa(:,:,1), 'haar');\n",
        "[xaaG, xhhG, xvvG, xddG] = dwt2(xa(:,:,2), 'haar');\n",
        "[xaaB, xhhB, xvvB, xddB] = dwt2(xa(:,:,3), 'haar');\n",
        "\n",
        "xaa(:,:,1) = xaaR; xaa(:,:,2) = xaaG; xaa(:,:,3) = xaaB;\n",
        "xhh(:,:,1) = xhhR; xaa(:,:,2) = xhhG; xhh(:,:,3) = xhhB;\n",
        "xvv(:,:,1) = xvvR; xvv(:,:,2) = xvvG; xvv(:,:,3) = xvvB;\n",
        "xdd(:,:,1) = xddR; xdd(:,:,2) = xddG; xdd(:,:,3) = xddB;\n",
        "\n",
        "xAA = xaa/255;\n",
        "\n",
        "figure, imshow(xAA*0.3);\n",
        "figure, imshow(log10(xhh)*0.5);\n",
        "figure, imshow(log10(xvv)*0.5);\n",
        "figure, imshow(log10(xdd)*0.5);"
      ]
    }
  ]
}